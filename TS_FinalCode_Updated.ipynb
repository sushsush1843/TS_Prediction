{
 "cells": [
  {
   "cell_type": "markdown",
   "metadata": {},
   "source": [
    "# Predicting Tensile Strengths of Alloys Using Machine Learning"
   ]
  },
  {
   "cell_type": "markdown",
   "metadata": {},
   "source": [
    "This notebook uses over 350 alloys to model tensile strengths based on alloy compositions, and uses the model to predict tensile strengths of new compounds. It creates features based on the composition of each entry, trains a random forest model, and then uses the model to predict new compound tensile strengths.\n",
    "\n",
    "Alloy data taken from [here](https://www.nickelinstitute.org/~/media/files/technicalliterature/propertiesofsomemetalsandalloys_297_.pdf)"
   ]
  },
  {
   "cell_type": "code",
   "execution_count": 1,
   "metadata": {
    "collapsed": true
   },
   "outputs": [],
   "source": [
    "#Before loading the dataset, we import the required libraries and packages\n",
    "\n",
    "import pandas as pd         #pandas provides easy-to-use data structures and data analysis tools\n",
    "import numpy as np          #numpy provides numerical tools\n",
    "from itertools import combinations,permutations        #helps create new compounds\n",
    "from sklearn.model_selection import train_test_split   #used to create a test set for checking accuracy\n",
    "from sklearn.linear_model import LinearRegression #Simple least squares regression for benchmarking\n",
    "from sklearn.ensemble import RandomForestRegressor     #the randomforest used for training the model\n",
    "from sklearn.metrics import mean_absolute_error as mae #This is the metric we use to check error/accuracy"
   ]
  },
  {
   "cell_type": "markdown",
   "metadata": {},
   "source": [
    "## Loading the dataset using pandas from the local folder"
   ]
  },
  {
   "cell_type": "code",
   "execution_count": 3,
   "metadata": {
    "collapsed": true
   },
   "outputs": [],
   "source": [
    "file_location = r'C:\\Users\\hchintada\\Downloads\\TS_Project\\finaldata_alloy_comp.csv'\n",
    "#change file_location in the above line accordingly.\n",
    "# ex: file_location = r'C:\\Users\\Sushma\\TSproject\\finaldata_alloy_comp.csv'\n",
    "data = pd.read_csv(file_location) #loads the data into a pandas dataframe"
   ]
  },
  {
   "cell_type": "markdown",
   "metadata": {},
   "source": [
    "Having a brief look at the data that is loaded. head() method outputs the top 5 rows of the dataset"
   ]
  },
  {
   "cell_type": "code",
   "execution_count": 4,
   "metadata": {
    "scrolled": false
   },
   "outputs": [
    {
     "data": {
      "text/html": [
       "<div>\n",
       "<style scoped>\n",
       "    .dataframe tbody tr th:only-of-type {\n",
       "        vertical-align: middle;\n",
       "    }\n",
       "\n",
       "    .dataframe tbody tr th {\n",
       "        vertical-align: top;\n",
       "    }\n",
       "\n",
       "    .dataframe thead th {\n",
       "        text-align: right;\n",
       "    }\n",
       "</style>\n",
       "<table border=\"1\" class=\"dataframe\">\n",
       "  <thead>\n",
       "    <tr style=\"text-align: right;\">\n",
       "      <th></th>\n",
       "      <th>composition</th>\n",
       "      <th>m1</th>\n",
       "      <th>m1%</th>\n",
       "      <th>m2</th>\n",
       "      <th>m2%</th>\n",
       "      <th>m3</th>\n",
       "      <th>m3%</th>\n",
       "      <th>m4</th>\n",
       "      <th>m4%</th>\n",
       "      <th>m5</th>\n",
       "      <th>...</th>\n",
       "      <th>m7%</th>\n",
       "      <th>m8</th>\n",
       "      <th>m8%</th>\n",
       "      <th>m9</th>\n",
       "      <th>m9%</th>\n",
       "      <th>m10</th>\n",
       "      <th>m10%</th>\n",
       "      <th>m11</th>\n",
       "      <th>m11%</th>\n",
       "      <th>TS</th>\n",
       "    </tr>\n",
       "  </thead>\n",
       "  <tbody>\n",
       "    <tr>\n",
       "      <th>0</th>\n",
       "      <td>Cu99.90</td>\n",
       "      <td>Cu</td>\n",
       "      <td>99.90</td>\n",
       "      <td>NaN</td>\n",
       "      <td>NaN</td>\n",
       "      <td>NaN</td>\n",
       "      <td>NaN</td>\n",
       "      <td>NaN</td>\n",
       "      <td>NaN</td>\n",
       "      <td>NaN</td>\n",
       "      <td>...</td>\n",
       "      <td>NaN</td>\n",
       "      <td>NaN</td>\n",
       "      <td>NaN</td>\n",
       "      <td>NaN</td>\n",
       "      <td>NaN</td>\n",
       "      <td>NaN</td>\n",
       "      <td>NaN</td>\n",
       "      <td>NaN</td>\n",
       "      <td>NaN</td>\n",
       "      <td>32.0</td>\n",
       "    </tr>\n",
       "    <tr>\n",
       "      <th>1</th>\n",
       "      <td>Cu98.05,Be1.7,Co0.25</td>\n",
       "      <td>Cu</td>\n",
       "      <td>98.05</td>\n",
       "      <td>Be</td>\n",
       "      <td>1.70</td>\n",
       "      <td>Co</td>\n",
       "      <td>0.25</td>\n",
       "      <td>NaN</td>\n",
       "      <td>NaN</td>\n",
       "      <td>NaN</td>\n",
       "      <td>...</td>\n",
       "      <td>NaN</td>\n",
       "      <td>NaN</td>\n",
       "      <td>NaN</td>\n",
       "      <td>NaN</td>\n",
       "      <td>NaN</td>\n",
       "      <td>NaN</td>\n",
       "      <td>NaN</td>\n",
       "      <td>NaN</td>\n",
       "      <td>NaN</td>\n",
       "      <td>165.0</td>\n",
       "    </tr>\n",
       "    <tr>\n",
       "      <th>2</th>\n",
       "      <td>Cu97.85,Be1.9,Co0.25</td>\n",
       "      <td>Cu</td>\n",
       "      <td>97.85</td>\n",
       "      <td>Be</td>\n",
       "      <td>1.90</td>\n",
       "      <td>Co</td>\n",
       "      <td>0.25</td>\n",
       "      <td>NaN</td>\n",
       "      <td>NaN</td>\n",
       "      <td>NaN</td>\n",
       "      <td>...</td>\n",
       "      <td>NaN</td>\n",
       "      <td>NaN</td>\n",
       "      <td>NaN</td>\n",
       "      <td>NaN</td>\n",
       "      <td>NaN</td>\n",
       "      <td>NaN</td>\n",
       "      <td>NaN</td>\n",
       "      <td>NaN</td>\n",
       "      <td>NaN</td>\n",
       "      <td>175.0</td>\n",
       "    </tr>\n",
       "    <tr>\n",
       "      <th>3</th>\n",
       "      <td>Cu96.9,Be0.6,Co2.5</td>\n",
       "      <td>Cu</td>\n",
       "      <td>96.90</td>\n",
       "      <td>Be</td>\n",
       "      <td>0.60</td>\n",
       "      <td>Co</td>\n",
       "      <td>2.50</td>\n",
       "      <td>NaN</td>\n",
       "      <td>NaN</td>\n",
       "      <td>NaN</td>\n",
       "      <td>...</td>\n",
       "      <td>NaN</td>\n",
       "      <td>NaN</td>\n",
       "      <td>NaN</td>\n",
       "      <td>NaN</td>\n",
       "      <td>NaN</td>\n",
       "      <td>NaN</td>\n",
       "      <td>NaN</td>\n",
       "      <td>NaN</td>\n",
       "      <td>NaN</td>\n",
       "      <td>110.0</td>\n",
       "    </tr>\n",
       "    <tr>\n",
       "      <th>4</th>\n",
       "      <td>Cu97.07,Be0.38,Co1.55,Ag1</td>\n",
       "      <td>Cu</td>\n",
       "      <td>97.07</td>\n",
       "      <td>Be</td>\n",
       "      <td>0.38</td>\n",
       "      <td>Co</td>\n",
       "      <td>1.55</td>\n",
       "      <td>Ag</td>\n",
       "      <td>1.0</td>\n",
       "      <td>NaN</td>\n",
       "      <td>...</td>\n",
       "      <td>NaN</td>\n",
       "      <td>NaN</td>\n",
       "      <td>NaN</td>\n",
       "      <td>NaN</td>\n",
       "      <td>NaN</td>\n",
       "      <td>NaN</td>\n",
       "      <td>NaN</td>\n",
       "      <td>NaN</td>\n",
       "      <td>NaN</td>\n",
       "      <td>110.0</td>\n",
       "    </tr>\n",
       "  </tbody>\n",
       "</table>\n",
       "<p>5 rows × 24 columns</p>\n",
       "</div>"
      ],
      "text/plain": [
       "                 composition  m1    m1%   m2   m2%   m3   m3%   m4  m4%   m5  \\\n",
       "0                    Cu99.90  Cu  99.90  NaN   NaN  NaN   NaN  NaN  NaN  NaN   \n",
       "1       Cu98.05,Be1.7,Co0.25  Cu  98.05   Be  1.70   Co  0.25  NaN  NaN  NaN   \n",
       "2       Cu97.85,Be1.9,Co0.25  Cu  97.85   Be  1.90   Co  0.25  NaN  NaN  NaN   \n",
       "3         Cu96.9,Be0.6,Co2.5  Cu  96.90   Be  0.60   Co  2.50  NaN  NaN  NaN   \n",
       "4  Cu97.07,Be0.38,Co1.55,Ag1  Cu  97.07   Be  0.38   Co  1.55   Ag  1.0  NaN   \n",
       "\n",
       "   ...    m7%   m8  m8%   m9  m9%  m10  m10%  m11  m11%     TS  \n",
       "0  ...    NaN  NaN  NaN  NaN  NaN  NaN   NaN  NaN   NaN   32.0  \n",
       "1  ...    NaN  NaN  NaN  NaN  NaN  NaN   NaN  NaN   NaN  165.0  \n",
       "2  ...    NaN  NaN  NaN  NaN  NaN  NaN   NaN  NaN   NaN  175.0  \n",
       "3  ...    NaN  NaN  NaN  NaN  NaN  NaN   NaN  NaN   NaN  110.0  \n",
       "4  ...    NaN  NaN  NaN  NaN  NaN  NaN   NaN  NaN   NaN  110.0  \n",
       "\n",
       "[5 rows x 24 columns]"
      ]
     },
     "execution_count": 4,
     "metadata": {},
     "output_type": "execute_result"
    }
   ],
   "source": [
    "data.head()"
   ]
  },
  {
   "cell_type": "markdown",
   "metadata": {},
   "source": [
    "# Creating new compounds\n",
    "Creating over 18,000 random combinations of three metals with random weights"
   ]
  },
  {
   "cell_type": "markdown",
   "metadata": {},
   "source": [
    "## Create random weights\n",
    "Initializing random weights for components that sum up to 100"
   ]
  },
  {
   "cell_type": "code",
   "execution_count": 5,
   "metadata": {
    "collapsed": true
   },
   "outputs": [],
   "source": [
    "def wt():\n",
    "    weights = np.random.random(3)\n",
    "    weights /= weights.sum();weights*=100;weights = weights.round(2)\n",
    "    return weights"
   ]
  },
  {
   "cell_type": "markdown",
   "metadata": {},
   "source": [
    "## Create random metal-weight combinations of size 3"
   ]
  },
  {
   "cell_type": "code",
   "execution_count": 6,
   "metadata": {},
   "outputs": [
    {
     "name": "stdout",
     "output_type": "stream",
     "text": [
      "Number of new randomly generated components: 19600\n"
     ]
    }
   ],
   "source": [
    "metals = []\n",
    "for column in 'm1 m2 m3 m4 m5 m6 m7 m8 m9 m10 m11'.split(' '):\n",
    "    metals.extend(data[column].dropna().drop_duplicates())\n",
    "    metals = list(set(metals))\n",
    "metals = np.asarray(metals)\n",
    "metals[metals!='nan']\n",
    "metals.sort()\n",
    "\n",
    "new_comps = []\n",
    "for i in combinations(metals,3):\n",
    "    new_comps.append(','.join([m+str(n) for m,n in zip(i,wt())]))\n",
    "print('Number of new randomly generated components:',len(new_comps))"
   ]
  },
  {
   "cell_type": "markdown",
   "metadata": {},
   "source": [
    "This created 18424 new alloy combinations"
   ]
  },
  {
   "cell_type": "code",
   "execution_count": 7,
   "metadata": {},
   "outputs": [
    {
     "name": "stdout",
     "output_type": "stream",
     "text": [
      "['O49.41,W43.88,Zr6.71', 'Cc82.34,La0.59,U17.07', 'La25.12,Mn18.45,Ni56.44', 'H2.71,La53.99,Sb43.3', 'Hf76.88,In17.51,O5.61', 'Ag51.86,Pb30.12,Sb18.02', 'Co29.14,H1.6,O69.26', 'Cc28.18,Zn62.11,Zr9.71', 'B28.96,Mo41.34,Y29.7', 'Cu0.97,Se57.44,W41.59', 'Al53.89,Fe35.8,Pd10.31', 'Cc30.27,Pt32.84,Si36.89', 'Au29.94,Cr56.61,Th13.45', 'Cb14.61,Cr36.83,Sb48.56', 'Ir30.75,P37.69,Ta31.56']\n"
     ]
    }
   ],
   "source": [
    "# A random sample of 15 items from the above list of new compounds\n",
    "import random\n",
    "print(random.sample(new_comps, 15))"
   ]
  },
  {
   "cell_type": "markdown",
   "metadata": {},
   "source": [
    "## Create a dataframe new compounds"
   ]
  },
  {
   "cell_type": "code",
   "execution_count": 8,
   "metadata": {
    "collapsed": true
   },
   "outputs": [
    {
     "name": "stderr",
     "output_type": "stream",
     "text": [
      "C:\\Users\\hchintada\\AppData\\Local\\Continuum\\Anaconda3\\lib\\site-packages\\ipykernel_launcher.py:5: FutureWarning: currently extract(expand=None) means expand=False (return Index/Series/DataFrame) but in a future version of pandas this will be changed to expand=True (return DataFrame)\n",
      "  \"\"\"\n"
     ]
    }
   ],
   "source": [
    "#Create a pandas dataframe from new component list so that it can be passed to the model for prediction\n",
    "new = pd.DataFrame({'composition':new_comps})\n",
    "expanded = new['composition'].str.split(',', expand=True)\n",
    "for column in expanded.columns:\n",
    "    m = expanded[column].str.extract(r'([a-zA-Z]+)([0-9\\.]+)')\n",
    "    m.columns = ['m'+str(column+1),'m'+str(column+1)+'%']\n",
    "    m['m'+str(column+1)+'%'] = m['m'+str(column+1)+'%'].astype('float')\n",
    "    new = pd.concat([new,m],axis='columns')"
   ]
  },
  {
   "cell_type": "code",
   "execution_count": 9,
   "metadata": {},
   "outputs": [
    {
     "data": {
      "text/html": [
       "<div>\n",
       "<style scoped>\n",
       "    .dataframe tbody tr th:only-of-type {\n",
       "        vertical-align: middle;\n",
       "    }\n",
       "\n",
       "    .dataframe tbody tr th {\n",
       "        vertical-align: top;\n",
       "    }\n",
       "\n",
       "    .dataframe thead th {\n",
       "        text-align: right;\n",
       "    }\n",
       "</style>\n",
       "<table border=\"1\" class=\"dataframe\">\n",
       "  <thead>\n",
       "    <tr style=\"text-align: right;\">\n",
       "      <th></th>\n",
       "      <th>composition</th>\n",
       "      <th>m1</th>\n",
       "      <th>m1%</th>\n",
       "      <th>m2</th>\n",
       "      <th>m2%</th>\n",
       "      <th>m3</th>\n",
       "      <th>m3%</th>\n",
       "    </tr>\n",
       "  </thead>\n",
       "  <tbody>\n",
       "    <tr>\n",
       "      <th>0</th>\n",
       "      <td>Ag9.33,Al22.85,As67.83</td>\n",
       "      <td>Ag</td>\n",
       "      <td>9.33</td>\n",
       "      <td>Al</td>\n",
       "      <td>22.85</td>\n",
       "      <td>As</td>\n",
       "      <td>67.83</td>\n",
       "    </tr>\n",
       "    <tr>\n",
       "      <th>1</th>\n",
       "      <td>Ag29.86,Al30.11,Au40.04</td>\n",
       "      <td>Ag</td>\n",
       "      <td>29.86</td>\n",
       "      <td>Al</td>\n",
       "      <td>30.11</td>\n",
       "      <td>Au</td>\n",
       "      <td>40.04</td>\n",
       "    </tr>\n",
       "    <tr>\n",
       "      <th>2</th>\n",
       "      <td>Ag15.5,Al34.24,B50.26</td>\n",
       "      <td>Ag</td>\n",
       "      <td>15.50</td>\n",
       "      <td>Al</td>\n",
       "      <td>34.24</td>\n",
       "      <td>B</td>\n",
       "      <td>50.26</td>\n",
       "    </tr>\n",
       "    <tr>\n",
       "      <th>3</th>\n",
       "      <td>Ag31.34,Al38.39,Be30.28</td>\n",
       "      <td>Ag</td>\n",
       "      <td>31.34</td>\n",
       "      <td>Al</td>\n",
       "      <td>38.39</td>\n",
       "      <td>Be</td>\n",
       "      <td>30.28</td>\n",
       "    </tr>\n",
       "    <tr>\n",
       "      <th>4</th>\n",
       "      <td>Ag41.13,Al21.41,Bi37.46</td>\n",
       "      <td>Ag</td>\n",
       "      <td>41.13</td>\n",
       "      <td>Al</td>\n",
       "      <td>21.41</td>\n",
       "      <td>Bi</td>\n",
       "      <td>37.46</td>\n",
       "    </tr>\n",
       "  </tbody>\n",
       "</table>\n",
       "</div>"
      ],
      "text/plain": [
       "               composition  m1    m1%  m2    m2%  m3    m3%\n",
       "0   Ag9.33,Al22.85,As67.83  Ag   9.33  Al  22.85  As  67.83\n",
       "1  Ag29.86,Al30.11,Au40.04  Ag  29.86  Al  30.11  Au  40.04\n",
       "2    Ag15.5,Al34.24,B50.26  Ag  15.50  Al  34.24   B  50.26\n",
       "3  Ag31.34,Al38.39,Be30.28  Ag  31.34  Al  38.39  Be  30.28\n",
       "4  Ag41.13,Al21.41,Bi37.46  Ag  41.13  Al  21.41  Bi  37.46"
      ]
     },
     "execution_count": 9,
     "metadata": {},
     "output_type": "execute_result"
    }
   ],
   "source": [
    "# A look at the new dataframe\n",
    "new.head()"
   ]
  },
  {
   "cell_type": "markdown",
   "metadata": {},
   "source": [
    "## data preprocessing"
   ]
  },
  {
   "cell_type": "markdown",
   "metadata": {},
   "source": [
    "After loading the dataset, the columns m1, m2,..... need to be one-hot-encoded to suit learning algorithms. This helps convert the categorical columns into numeric columns for model building. This can be done by using the 'get_dummies()' method of pandas"
   ]
  },
  {
   "cell_type": "code",
   "execution_count": 11,
   "metadata": {
    "collapsed": true
   },
   "outputs": [],
   "source": [
    "#concatenating the newly generated compounds dataframe to capture their categories\n",
    "data1 = pd.concat([data,new])"
   ]
  },
  {
   "cell_type": "code",
   "execution_count": 20,
   "metadata": {
    "collapsed": true
   },
   "outputs": [],
   "source": [
    "for col in 'm1 m2 m3 m4 m5 m6 m7 m8 m9 m10 m11'.split(' '):\n",
    "    data1[col] = data1[col].astype('category')"
   ]
  },
  {
   "cell_type": "code",
   "execution_count": 21,
   "metadata": {
    "collapsed": true
   },
   "outputs": [],
   "source": [
    "df = pd.get_dummies(data1.drop(['composition'],axis='columns')) #creates a new dataframe df that creates new dummy columns"
   ]
  },
  {
   "cell_type": "code",
   "execution_count": 23,
   "metadata": {
    "scrolled": true
   },
   "outputs": [
    {
     "data": {
      "text/html": [
       "<div>\n",
       "<style scoped>\n",
       "    .dataframe tbody tr th:only-of-type {\n",
       "        vertical-align: middle;\n",
       "    }\n",
       "\n",
       "    .dataframe tbody tr th {\n",
       "        vertical-align: top;\n",
       "    }\n",
       "\n",
       "    .dataframe thead th {\n",
       "        text-align: right;\n",
       "    }\n",
       "</style>\n",
       "<table border=\"1\" class=\"dataframe\">\n",
       "  <thead>\n",
       "    <tr style=\"text-align: right;\">\n",
       "      <th></th>\n",
       "      <th>TS</th>\n",
       "      <th>m1%</th>\n",
       "      <th>m10%</th>\n",
       "      <th>m11%</th>\n",
       "      <th>m2%</th>\n",
       "      <th>m3%</th>\n",
       "      <th>m4%</th>\n",
       "      <th>m5%</th>\n",
       "      <th>m6%</th>\n",
       "      <th>m7%</th>\n",
       "      <th>...</th>\n",
       "      <th>m9_B</th>\n",
       "      <th>m9_C</th>\n",
       "      <th>m9_Cb</th>\n",
       "      <th>m9_H</th>\n",
       "      <th>m9_O</th>\n",
       "      <th>m9_Si</th>\n",
       "      <th>m9_Ta</th>\n",
       "      <th>m9_Ti</th>\n",
       "      <th>m9_V</th>\n",
       "      <th>m9_Zr</th>\n",
       "    </tr>\n",
       "  </thead>\n",
       "  <tbody>\n",
       "    <tr>\n",
       "      <th>0</th>\n",
       "      <td>32.0</td>\n",
       "      <td>99.90</td>\n",
       "      <td>NaN</td>\n",
       "      <td>NaN</td>\n",
       "      <td>NaN</td>\n",
       "      <td>NaN</td>\n",
       "      <td>NaN</td>\n",
       "      <td>NaN</td>\n",
       "      <td>NaN</td>\n",
       "      <td>NaN</td>\n",
       "      <td>...</td>\n",
       "      <td>0</td>\n",
       "      <td>0</td>\n",
       "      <td>0</td>\n",
       "      <td>0</td>\n",
       "      <td>0</td>\n",
       "      <td>0</td>\n",
       "      <td>0</td>\n",
       "      <td>0</td>\n",
       "      <td>0</td>\n",
       "      <td>0</td>\n",
       "    </tr>\n",
       "    <tr>\n",
       "      <th>1</th>\n",
       "      <td>165.0</td>\n",
       "      <td>98.05</td>\n",
       "      <td>NaN</td>\n",
       "      <td>NaN</td>\n",
       "      <td>1.70</td>\n",
       "      <td>0.25</td>\n",
       "      <td>NaN</td>\n",
       "      <td>NaN</td>\n",
       "      <td>NaN</td>\n",
       "      <td>NaN</td>\n",
       "      <td>...</td>\n",
       "      <td>0</td>\n",
       "      <td>0</td>\n",
       "      <td>0</td>\n",
       "      <td>0</td>\n",
       "      <td>0</td>\n",
       "      <td>0</td>\n",
       "      <td>0</td>\n",
       "      <td>0</td>\n",
       "      <td>0</td>\n",
       "      <td>0</td>\n",
       "    </tr>\n",
       "    <tr>\n",
       "      <th>2</th>\n",
       "      <td>175.0</td>\n",
       "      <td>97.85</td>\n",
       "      <td>NaN</td>\n",
       "      <td>NaN</td>\n",
       "      <td>1.90</td>\n",
       "      <td>0.25</td>\n",
       "      <td>NaN</td>\n",
       "      <td>NaN</td>\n",
       "      <td>NaN</td>\n",
       "      <td>NaN</td>\n",
       "      <td>...</td>\n",
       "      <td>0</td>\n",
       "      <td>0</td>\n",
       "      <td>0</td>\n",
       "      <td>0</td>\n",
       "      <td>0</td>\n",
       "      <td>0</td>\n",
       "      <td>0</td>\n",
       "      <td>0</td>\n",
       "      <td>0</td>\n",
       "      <td>0</td>\n",
       "    </tr>\n",
       "    <tr>\n",
       "      <th>3</th>\n",
       "      <td>110.0</td>\n",
       "      <td>96.90</td>\n",
       "      <td>NaN</td>\n",
       "      <td>NaN</td>\n",
       "      <td>0.60</td>\n",
       "      <td>2.50</td>\n",
       "      <td>NaN</td>\n",
       "      <td>NaN</td>\n",
       "      <td>NaN</td>\n",
       "      <td>NaN</td>\n",
       "      <td>...</td>\n",
       "      <td>0</td>\n",
       "      <td>0</td>\n",
       "      <td>0</td>\n",
       "      <td>0</td>\n",
       "      <td>0</td>\n",
       "      <td>0</td>\n",
       "      <td>0</td>\n",
       "      <td>0</td>\n",
       "      <td>0</td>\n",
       "      <td>0</td>\n",
       "    </tr>\n",
       "    <tr>\n",
       "      <th>4</th>\n",
       "      <td>110.0</td>\n",
       "      <td>97.07</td>\n",
       "      <td>NaN</td>\n",
       "      <td>NaN</td>\n",
       "      <td>0.38</td>\n",
       "      <td>1.55</td>\n",
       "      <td>1.0</td>\n",
       "      <td>NaN</td>\n",
       "      <td>NaN</td>\n",
       "      <td>NaN</td>\n",
       "      <td>...</td>\n",
       "      <td>0</td>\n",
       "      <td>0</td>\n",
       "      <td>0</td>\n",
       "      <td>0</td>\n",
       "      <td>0</td>\n",
       "      <td>0</td>\n",
       "      <td>0</td>\n",
       "      <td>0</td>\n",
       "      <td>0</td>\n",
       "      <td>0</td>\n",
       "    </tr>\n",
       "  </tbody>\n",
       "</table>\n",
       "<p>5 rows × 277 columns</p>\n",
       "</div>"
      ],
      "text/plain": [
       "      TS    m1%  m10%  m11%   m2%   m3%  m4%  m5%  m6%  m7%  ...    m9_B  \\\n",
       "0   32.0  99.90   NaN   NaN   NaN   NaN  NaN  NaN  NaN  NaN  ...       0   \n",
       "1  165.0  98.05   NaN   NaN  1.70  0.25  NaN  NaN  NaN  NaN  ...       0   \n",
       "2  175.0  97.85   NaN   NaN  1.90  0.25  NaN  NaN  NaN  NaN  ...       0   \n",
       "3  110.0  96.90   NaN   NaN  0.60  2.50  NaN  NaN  NaN  NaN  ...       0   \n",
       "4  110.0  97.07   NaN   NaN  0.38  1.55  1.0  NaN  NaN  NaN  ...       0   \n",
       "\n",
       "   m9_C  m9_Cb  m9_H  m9_O  m9_Si  m9_Ta  m9_Ti  m9_V  m9_Zr  \n",
       "0     0      0     0     0      0      0      0     0      0  \n",
       "1     0      0     0     0      0      0      0     0      0  \n",
       "2     0      0     0     0      0      0      0     0      0  \n",
       "3     0      0     0     0      0      0      0     0      0  \n",
       "4     0      0     0     0      0      0      0     0      0  \n",
       "\n",
       "[5 rows x 277 columns]"
      ]
     },
     "execution_count": 23,
     "metadata": {},
     "output_type": "execute_result"
    }
   ],
   "source": [
    "# a look at the new data\n",
    "df.head()"
   ]
  },
  {
   "cell_type": "markdown",
   "metadata": {},
   "source": [
    "data in 24 columns got spread into 276 columns after one-hot-encoding"
   ]
  },
  {
   "cell_type": "code",
   "execution_count": 27,
   "metadata": {
    "scrolled": false
   },
   "outputs": [
    {
     "name": "stdout",
     "output_type": "stream",
     "text": [
      "m1% m2% m3% m4% m5% m6% m7% m8% m9% m10% m11% TS m1_Ag m1_Al m1_As m1_Au m1_B m1_Be m1_Bi m1_C m1_Cb m1_Cc m1_Cd m1_Co m1_Cr m1_Cu m1_Fe m1_H m1_Hf m1_In m1_Ir m1_La m1_Ma m1_Mg m1_Mn m1_Mo m1_N m1_Ni m1_O m1_P m1_Pb m1_Pd m1_Pt m1_Re m1_Rh m1_Ru m1_S m1_Sb m1_Se m1_Si m1_Sn m1_Ta m1_Te m1_Th m1_Ti m1_U m1_V m1_W m1_Y m1_Zn m1_Zr m1_pb m2_Ag m2_Al m2_As m2_Au m2_B m2_Be m2_Bi m2_C m2_Cb m2_Cc m2_Cd m2_Co m2_Cr m2_Cu m2_Fe m2_H m2_Hf m2_In m2_Ir m2_La m2_Ma m2_Mg m2_Mn m2_Mo m2_N m2_Ni m2_O m2_P m2_Pb m2_Pd m2_Pt m2_Re m2_Rh m2_Ru m2_S m2_Sb m2_Se m2_Si m2_Sn m2_Ta m2_Te m2_Th m2_Ti m2_U m2_V m2_W m2_Y m2_Zn m2_Zr m3_Al m3_As m3_Au m3_B m3_Be m3_Bi m3_C m3_Cb m3_Cc m3_Cd m3_Co m3_Cr m3_Cu m3_Fe m3_H m3_Hf m3_In m3_Ir m3_La m3_Ma m3_Mg m3_Mn m3_Mo m3_N m3_Ni m3_O m3_P m3_Pb m3_Pd m3_Pt m3_Re m3_Rh m3_Ru m3_S m3_Sb m3_Se m3_Si m3_Sn m3_Ta m3_Te m3_Th m3_Ti m3_U m3_V m3_W m3_Y m3_Zn m3_Zr m3_pb m4_Ag m4_Al m4_As m4_B m4_C m4_Cb m4_Cc m4_Cd m4_Co m4_Cr m4_Cu m4_Fe m4_Mg m4_Mn m4_Mo m4_N m4_Ni m4_Pb m4_S m4_Se m4_Si m4_Sn m4_Ti m4_V m4_W m4_Zn m4_Zr m5_Al m5_Bi m5_C m5_Cb m5_Co m5_Cr m5_Cu m5_Fe m5_H m5_Mg m5_Mn m5_Mo m5_N m5_Ni m5_Si m5_Sn m5_Ti m5_V m5_W m5_Zn m5_Zr m6_Al m6_C m6_Cb m6_Co m6_Cr m6_Cu m6_Fe m6_H m6_Mn m6_Mo m6_N m6_O m6_Si m6_Sn m6_Ti m6_W m7_Al m7_B m7_C m7_Cb m7_Co m7_Cu m7_Fe m7_H m7_La m7_Mn m7_Mo m7_N m7_Ni m7_O m7_S m7_Si m7_Ta m7_Ti m7_Zr m8_Al m8_B m8_C m8_Cb m8_Cu m8_H m8_La m8_Mn m8_N m8_O m8_Si m8_Ta m8_V m8_W m8_Y m8_Zr m9_B m9_C m9_Cb m9_H m9_O m9_Si m9_Ta m9_Ti m9_V m9_Zr m10_C m10_Fe m10_O m10_Zr m11_B m11_C m11_Co m11_Cu "
     ]
    }
   ],
   "source": [
    "# A look at all the 276 new columns created\n",
    "for i in df.columns:\n",
    "    print(i,end=' ')"
   ]
  },
  {
   "cell_type": "code",
   "execution_count": 24,
   "metadata": {},
   "outputs": [
    {
     "data": {
      "text/html": [
       "<div>\n",
       "<style scoped>\n",
       "    .dataframe tbody tr th:only-of-type {\n",
       "        vertical-align: middle;\n",
       "    }\n",
       "\n",
       "    .dataframe tbody tr th {\n",
       "        vertical-align: top;\n",
       "    }\n",
       "\n",
       "    .dataframe thead th {\n",
       "        text-align: right;\n",
       "    }\n",
       "</style>\n",
       "<table border=\"1\" class=\"dataframe\">\n",
       "  <thead>\n",
       "    <tr style=\"text-align: right;\">\n",
       "      <th></th>\n",
       "      <th>TS</th>\n",
       "      <th>m1%</th>\n",
       "      <th>m10%</th>\n",
       "      <th>m11%</th>\n",
       "      <th>m2%</th>\n",
       "      <th>m3%</th>\n",
       "      <th>m4%</th>\n",
       "      <th>m5%</th>\n",
       "      <th>m6%</th>\n",
       "      <th>m7%</th>\n",
       "      <th>...</th>\n",
       "      <th>m9_B</th>\n",
       "      <th>m9_C</th>\n",
       "      <th>m9_Cb</th>\n",
       "      <th>m9_H</th>\n",
       "      <th>m9_O</th>\n",
       "      <th>m9_Si</th>\n",
       "      <th>m9_Ta</th>\n",
       "      <th>m9_Ti</th>\n",
       "      <th>m9_V</th>\n",
       "      <th>m9_Zr</th>\n",
       "    </tr>\n",
       "  </thead>\n",
       "  <tbody>\n",
       "    <tr>\n",
       "      <th>0</th>\n",
       "      <td>32.0</td>\n",
       "      <td>99.90</td>\n",
       "      <td>0.0</td>\n",
       "      <td>0.0</td>\n",
       "      <td>0.00</td>\n",
       "      <td>0.00</td>\n",
       "      <td>0.0</td>\n",
       "      <td>0.0</td>\n",
       "      <td>0.0</td>\n",
       "      <td>0.0</td>\n",
       "      <td>...</td>\n",
       "      <td>0</td>\n",
       "      <td>0</td>\n",
       "      <td>0</td>\n",
       "      <td>0</td>\n",
       "      <td>0</td>\n",
       "      <td>0</td>\n",
       "      <td>0</td>\n",
       "      <td>0</td>\n",
       "      <td>0</td>\n",
       "      <td>0</td>\n",
       "    </tr>\n",
       "    <tr>\n",
       "      <th>1</th>\n",
       "      <td>165.0</td>\n",
       "      <td>98.05</td>\n",
       "      <td>0.0</td>\n",
       "      <td>0.0</td>\n",
       "      <td>1.70</td>\n",
       "      <td>0.25</td>\n",
       "      <td>0.0</td>\n",
       "      <td>0.0</td>\n",
       "      <td>0.0</td>\n",
       "      <td>0.0</td>\n",
       "      <td>...</td>\n",
       "      <td>0</td>\n",
       "      <td>0</td>\n",
       "      <td>0</td>\n",
       "      <td>0</td>\n",
       "      <td>0</td>\n",
       "      <td>0</td>\n",
       "      <td>0</td>\n",
       "      <td>0</td>\n",
       "      <td>0</td>\n",
       "      <td>0</td>\n",
       "    </tr>\n",
       "    <tr>\n",
       "      <th>2</th>\n",
       "      <td>175.0</td>\n",
       "      <td>97.85</td>\n",
       "      <td>0.0</td>\n",
       "      <td>0.0</td>\n",
       "      <td>1.90</td>\n",
       "      <td>0.25</td>\n",
       "      <td>0.0</td>\n",
       "      <td>0.0</td>\n",
       "      <td>0.0</td>\n",
       "      <td>0.0</td>\n",
       "      <td>...</td>\n",
       "      <td>0</td>\n",
       "      <td>0</td>\n",
       "      <td>0</td>\n",
       "      <td>0</td>\n",
       "      <td>0</td>\n",
       "      <td>0</td>\n",
       "      <td>0</td>\n",
       "      <td>0</td>\n",
       "      <td>0</td>\n",
       "      <td>0</td>\n",
       "    </tr>\n",
       "    <tr>\n",
       "      <th>3</th>\n",
       "      <td>110.0</td>\n",
       "      <td>96.90</td>\n",
       "      <td>0.0</td>\n",
       "      <td>0.0</td>\n",
       "      <td>0.60</td>\n",
       "      <td>2.50</td>\n",
       "      <td>0.0</td>\n",
       "      <td>0.0</td>\n",
       "      <td>0.0</td>\n",
       "      <td>0.0</td>\n",
       "      <td>...</td>\n",
       "      <td>0</td>\n",
       "      <td>0</td>\n",
       "      <td>0</td>\n",
       "      <td>0</td>\n",
       "      <td>0</td>\n",
       "      <td>0</td>\n",
       "      <td>0</td>\n",
       "      <td>0</td>\n",
       "      <td>0</td>\n",
       "      <td>0</td>\n",
       "    </tr>\n",
       "    <tr>\n",
       "      <th>4</th>\n",
       "      <td>110.0</td>\n",
       "      <td>97.07</td>\n",
       "      <td>0.0</td>\n",
       "      <td>0.0</td>\n",
       "      <td>0.38</td>\n",
       "      <td>1.55</td>\n",
       "      <td>1.0</td>\n",
       "      <td>0.0</td>\n",
       "      <td>0.0</td>\n",
       "      <td>0.0</td>\n",
       "      <td>...</td>\n",
       "      <td>0</td>\n",
       "      <td>0</td>\n",
       "      <td>0</td>\n",
       "      <td>0</td>\n",
       "      <td>0</td>\n",
       "      <td>0</td>\n",
       "      <td>0</td>\n",
       "      <td>0</td>\n",
       "      <td>0</td>\n",
       "      <td>0</td>\n",
       "    </tr>\n",
       "  </tbody>\n",
       "</table>\n",
       "<p>5 rows × 277 columns</p>\n",
       "</div>"
      ],
      "text/plain": [
       "      TS    m1%  m10%  m11%   m2%   m3%  m4%  m5%  m6%  m7%  ...    m9_B  \\\n",
       "0   32.0  99.90   0.0   0.0  0.00  0.00  0.0  0.0  0.0  0.0  ...       0   \n",
       "1  165.0  98.05   0.0   0.0  1.70  0.25  0.0  0.0  0.0  0.0  ...       0   \n",
       "2  175.0  97.85   0.0   0.0  1.90  0.25  0.0  0.0  0.0  0.0  ...       0   \n",
       "3  110.0  96.90   0.0   0.0  0.60  2.50  0.0  0.0  0.0  0.0  ...       0   \n",
       "4  110.0  97.07   0.0   0.0  0.38  1.55  1.0  0.0  0.0  0.0  ...       0   \n",
       "\n",
       "   m9_C  m9_Cb  m9_H  m9_O  m9_Si  m9_Ta  m9_Ti  m9_V  m9_Zr  \n",
       "0     0      0     0     0      0      0      0     0      0  \n",
       "1     0      0     0     0      0      0      0     0      0  \n",
       "2     0      0     0     0      0      0      0     0      0  \n",
       "3     0      0     0     0      0      0      0     0      0  \n",
       "4     0      0     0     0      0      0      0     0      0  \n",
       "\n",
       "[5 rows x 277 columns]"
      ]
     },
     "execution_count": 24,
     "metadata": {},
     "output_type": "execute_result"
    }
   ],
   "source": [
    "df.fillna(0,inplace=True) #this fills all the blank cells in the weights columns with zero\n",
    "df.head()"
   ]
  },
  {
   "cell_type": "markdown",
   "metadata": {},
   "source": [
    "After capturing categories, separating the newly generated compounds from the original alloy dataframe"
   ]
  },
  {
   "cell_type": "code",
   "execution_count": 25,
   "metadata": {
    "collapsed": true
   },
   "outputs": [],
   "source": [
    "new_dum = df[df['TS'] == 0]\n",
    "df = df[df['TS'] != 0]\n",
    "new_dum.drop(['TS'],axis='columns',inplace=True)"
   ]
  },
  {
   "cell_type": "markdown",
   "metadata": {},
   "source": [
    "## Defining the target variable and splitting data into train and test sets\n",
    "\n",
    "Supervised machine learning models require seggregation between the predictor variables and target variable. The original datafrem df's predictor variables are stored in the dataframe X, while the target is stored in y"
   ]
  },
  {
   "cell_type": "code",
   "execution_count": 26,
   "metadata": {
    "collapsed": true
   },
   "outputs": [],
   "source": [
    "X = df.drop(['TS'],axis='columns')\n",
    "y = df['TS']"
   ]
  },
  {
   "cell_type": "markdown",
   "metadata": {},
   "source": [
    "Splitting the data into train and test sets helps check the model performance on unseen data. The code in the below cell splits the predictors and target dataframes into 'train predictors', 'train targets', 'test predictors', and 'test targets'."
   ]
  },
  {
   "cell_type": "code",
   "execution_count": 27,
   "metadata": {
    "collapsed": true
   },
   "outputs": [],
   "source": [
    "X_train,X_test,y_train,y_test = train_test_split(X,y,random_state=0)"
   ]
  },
  {
   "cell_type": "markdown",
   "metadata": {},
   "source": [
    "## Train and test sets\n",
    "\n",
    "A look at the test and train sets created above"
   ]
  },
  {
   "cell_type": "code",
   "execution_count": 28,
   "metadata": {},
   "outputs": [
    {
     "data": {
      "text/html": [
       "<div>\n",
       "<style scoped>\n",
       "    .dataframe tbody tr th:only-of-type {\n",
       "        vertical-align: middle;\n",
       "    }\n",
       "\n",
       "    .dataframe tbody tr th {\n",
       "        vertical-align: top;\n",
       "    }\n",
       "\n",
       "    .dataframe thead th {\n",
       "        text-align: right;\n",
       "    }\n",
       "</style>\n",
       "<table border=\"1\" class=\"dataframe\">\n",
       "  <thead>\n",
       "    <tr style=\"text-align: right;\">\n",
       "      <th></th>\n",
       "      <th>Actual_TS</th>\n",
       "      <th>composition</th>\n",
       "    </tr>\n",
       "  </thead>\n",
       "  <tbody>\n",
       "    <tr>\n",
       "      <th>132</th>\n",
       "      <td>125.0</td>\n",
       "      <td>Ni50,Ti50</td>\n",
       "    </tr>\n",
       "    <tr>\n",
       "      <th>66</th>\n",
       "      <td>23.0</td>\n",
       "      <td>Al95.0,Si5</td>\n",
       "    </tr>\n",
       "    <tr>\n",
       "      <th>261</th>\n",
       "      <td>135.0</td>\n",
       "      <td>Fe75.03,Cr17,Ni7,Ti0.7,Al0.2,C0.07</td>\n",
       "    </tr>\n",
       "    <tr>\n",
       "      <th>12</th>\n",
       "      <td>66.0</td>\n",
       "      <td>Cu89.8,Sn10,P0.2</td>\n",
       "    </tr>\n",
       "    <tr>\n",
       "      <th>120</th>\n",
       "      <td>57.0</td>\n",
       "      <td>Ni95.6,Cu0.5,Fe0.5,Mn0.8,Si1.5,C0.8</td>\n",
       "    </tr>\n",
       "  </tbody>\n",
       "</table>\n",
       "</div>"
      ],
      "text/plain": [
       "     Actual_TS                          composition\n",
       "132      125.0                            Ni50,Ti50\n",
       "66        23.0                           Al95.0,Si5\n",
       "261      135.0   Fe75.03,Cr17,Ni7,Ti0.7,Al0.2,C0.07\n",
       "12        66.0                     Cu89.8,Sn10,P0.2\n",
       "120       57.0  Ni95.6,Cu0.5,Fe0.5,Mn0.8,Si1.5,C0.8"
      ]
     },
     "execution_count": 28,
     "metadata": {},
     "output_type": "execute_result"
    }
   ],
   "source": [
    "# Alloys used in the train dataset\n",
    "train_data = pd.DataFrame({'composition': data.loc[X_train.index]['composition'], 'Actual_TS':data.loc[X_train.index]['TS']})\n",
    "train_data.head()"
   ]
  },
  {
   "cell_type": "code",
   "execution_count": 29,
   "metadata": {},
   "outputs": [
    {
     "data": {
      "text/html": [
       "<div>\n",
       "<style scoped>\n",
       "    .dataframe tbody tr th:only-of-type {\n",
       "        vertical-align: middle;\n",
       "    }\n",
       "\n",
       "    .dataframe tbody tr th {\n",
       "        vertical-align: top;\n",
       "    }\n",
       "\n",
       "    .dataframe thead th {\n",
       "        text-align: right;\n",
       "    }\n",
       "</style>\n",
       "<table border=\"1\" class=\"dataframe\">\n",
       "  <thead>\n",
       "    <tr style=\"text-align: right;\">\n",
       "      <th></th>\n",
       "      <th>Actual_TS</th>\n",
       "      <th>composition</th>\n",
       "    </tr>\n",
       "  </thead>\n",
       "  <tbody>\n",
       "    <tr>\n",
       "      <th>6</th>\n",
       "      <td>44.0</td>\n",
       "      <td>Cu70,Zn30</td>\n",
       "    </tr>\n",
       "    <tr>\n",
       "      <th>140</th>\n",
       "      <td>92.0</td>\n",
       "      <td>Ni32,Cr20.5,Fe44.5,C0.05,Ti1.1</td>\n",
       "    </tr>\n",
       "    <tr>\n",
       "      <th>302</th>\n",
       "      <td>62.0</td>\n",
       "      <td>Fe41.43,Cr20.5,Ni29,Cu3.5,Mo2.5,Mn1.5,Si1.5,C0.07</td>\n",
       "    </tr>\n",
       "    <tr>\n",
       "      <th>220</th>\n",
       "      <td>60.0</td>\n",
       "      <td>Fe89.5,Ni4.5,Cr2.1,C2.8,Si0.5,Mn0.6</td>\n",
       "    </tr>\n",
       "    <tr>\n",
       "      <th>90</th>\n",
       "      <td>160.0</td>\n",
       "      <td>Ti81.66,Al6,Sn2,Zr4,Mo6,C0.04,Fe0.15,N0.02,H0....</td>\n",
       "    </tr>\n",
       "  </tbody>\n",
       "</table>\n",
       "</div>"
      ],
      "text/plain": [
       "     Actual_TS                                        composition\n",
       "6         44.0                                          Cu70,Zn30\n",
       "140       92.0                     Ni32,Cr20.5,Fe44.5,C0.05,Ti1.1\n",
       "302       62.0  Fe41.43,Cr20.5,Ni29,Cu3.5,Mo2.5,Mn1.5,Si1.5,C0.07\n",
       "220       60.0                Fe89.5,Ni4.5,Cr2.1,C2.8,Si0.5,Mn0.6\n",
       "90       160.0  Ti81.66,Al6,Sn2,Zr4,Mo6,C0.04,Fe0.15,N0.02,H0...."
      ]
     },
     "execution_count": 29,
     "metadata": {},
     "output_type": "execute_result"
    }
   ],
   "source": [
    "# Alloys in the test dataset\n",
    "test_data = pd.DataFrame({'composition': data.loc[X_test.index]['composition'], 'Actual_TS':data.loc[X_test.index]['TS']})\n",
    "test_data.head()"
   ]
  },
  {
   "cell_type": "markdown",
   "metadata": {},
   "source": [
    "# Building the model\n",
    "## Simple Least Squares Regression\n",
    "\n",
    "Now that the train and test datasets are ready, below cell creates a linear regression model instance using LinearRegression class from scikit learn"
   ]
  },
  {
   "cell_type": "code",
   "execution_count": 30,
   "metadata": {},
   "outputs": [],
   "source": [
    "lm = LinearRegression()"
   ]
  },
  {
   "cell_type": "markdown",
   "metadata": {},
   "source": [
    "## Fitting the linear model"
   ]
  },
  {
   "cell_type": "code",
   "execution_count": 31,
   "metadata": {},
   "outputs": [
    {
     "data": {
      "text/plain": [
       "LinearRegression(copy_X=True, fit_intercept=True, n_jobs=None,\n",
       "         normalize=False)"
      ]
     },
     "execution_count": 31,
     "metadata": {},
     "output_type": "execute_result"
    }
   ],
   "source": [
    "lm.fit(X_train,y_train)"
   ]
  },
  {
   "cell_type": "markdown",
   "metadata": {},
   "source": [
    "In the above cell, the linear regression algorithm was fit on the train predictors and train target to learn the model. The learnt model is then used to predict the target variable (Tensile Strength) using train predictors and error is noted. \n",
    "\n",
    "Later, the same model is used to predict the test target variable using the test predictors. The last step gives us the metric to evaluate the model on heldout data."
   ]
  },
  {
   "cell_type": "code",
   "execution_count": 34,
   "metadata": {},
   "outputs": [
    {
     "data": {
      "text/plain": [
       "0.9161154750411907"
      ]
     },
     "execution_count": 34,
     "metadata": {},
     "output_type": "execute_result"
    }
   ],
   "source": [
    "lm.score(X_train,y_train) #this gives the coefficient of determination"
   ]
  },
  {
   "cell_type": "markdown",
   "metadata": {},
   "source": [
    "## Predicting train target using the model to evaluate how the model performs on seen data"
   ]
  },
  {
   "cell_type": "code",
   "execution_count": 35,
   "metadata": {},
   "outputs": [
    {
     "name": "stdout",
     "output_type": "stream",
     "text": [
      "Linear Regression train error:  8.560089172477579\n"
     ]
    }
   ],
   "source": [
    "lm_train_preds = lm.predict(X_train)\n",
    "print('Linear Regression train error: ',mae(y_train,lm_train_preds))"
   ]
  },
  {
   "cell_type": "markdown",
   "metadata": {},
   "source": [
    "## Checking model performance on unseen data (the test set)"
   ]
  },
  {
   "cell_type": "code",
   "execution_count": 38,
   "metadata": {},
   "outputs": [
    {
     "name": "stdout",
     "output_type": "stream",
     "text": [
      "Linear Regression test error :  165726821552.0971\n"
     ]
    }
   ],
   "source": [
    "lm_test_preds = lm.predict(X_test)\n",
    "print('Linear Regression test error : ',mae(y_test,lm_test_preds))"
   ]
  },
  {
   "cell_type": "markdown",
   "metadata": {},
   "source": [
    "## Random Forest for Regression"
   ]
  },
  {
   "cell_type": "markdown",
   "metadata": {},
   "source": [
    "Below cell creates a Random Forest model instance using RandomForestRegressor class from scikit learn"
   ]
  },
  {
   "cell_type": "code",
   "execution_count": 39,
   "metadata": {
    "collapsed": true
   },
   "outputs": [],
   "source": [
    "#This code creates a model instance with all the hyperparameters of the random forest model set\n",
    "rf = RandomForestRegressor(bootstrap=True, max_depth=None,\n",
    "           max_features='auto', max_leaf_nodes=None,\n",
    "           min_impurity_decrease=9, min_impurity_split=None,\n",
    "           min_samples_leaf=1, min_samples_split=2,\n",
    "           min_weight_fraction_leaf=0.0, n_estimators=10, n_jobs=1,\n",
    "           oob_score=False, random_state=0, verbose=0, warm_start=False)"
   ]
  },
  {
   "cell_type": "markdown",
   "metadata": {},
   "source": [
    "## Fitting the model"
   ]
  },
  {
   "cell_type": "code",
   "execution_count": 40,
   "metadata": {},
   "outputs": [
    {
     "data": {
      "text/plain": [
       "RandomForestRegressor(bootstrap=True, criterion='mse', max_depth=None,\n",
       "           max_features='auto', max_leaf_nodes=None,\n",
       "           min_impurity_decrease=9, min_impurity_split=None,\n",
       "           min_samples_leaf=1, min_samples_split=2,\n",
       "           min_weight_fraction_leaf=0.0, n_estimators=10, n_jobs=1,\n",
       "           oob_score=False, random_state=0, verbose=0, warm_start=False)"
      ]
     },
     "execution_count": 40,
     "metadata": {},
     "output_type": "execute_result"
    }
   ],
   "source": [
    "rf.fit(X_train,y_train)"
   ]
  },
  {
   "cell_type": "code",
   "execution_count": 41,
   "metadata": {},
   "outputs": [
    {
     "data": {
      "text/plain": [
       "0.8645746442721142"
      ]
     },
     "execution_count": 41,
     "metadata": {},
     "output_type": "execute_result"
    }
   ],
   "source": [
    "rf.score(X_train,y_train)"
   ]
  },
  {
   "cell_type": "code",
   "execution_count": 42,
   "metadata": {},
   "outputs": [
    {
     "data": {
      "text/plain": [
       "array([0, 1, 2, 3, 4, 5, 6, 7, 8, 9])"
      ]
     },
     "execution_count": 42,
     "metadata": {},
     "output_type": "execute_result"
    }
   ],
   "source": [
    "np.arange(10)"
   ]
  },
  {
   "cell_type": "code",
   "execution_count": 43,
   "metadata": {
    "collapsed": true
   },
   "outputs": [],
   "source": [
    "estim = [1,2,3,4,5,7,15,20,25,30,35,40,45,50,55,60,70,75,90,100,110,120,130,140,200,210,220]\n",
    "training = list()\n",
    "prediction = list()\n",
    "for param in estim:\n",
    "    rf.set_params(n_estimators=param)\n",
    "    rf.fit(X_train, y_train)\n",
    "    training.append(mae(y_train,rf.predict(X_train)))\n",
    "    prediction.append(mae(y_test,rf.predict(X_test)))\n",
    "\n",
    "i_min_impurity_optim = np.argmax(prediction)\n",
    "min_imp_optim = estim[i_min_impurity_optim]"
   ]
  },
  {
   "cell_type": "code",
   "execution_count": 44,
   "metadata": {},
   "outputs": [],
   "source": [
    "for_plot = pd.DataFrame({'Training':training,'Prediction':prediction})\n",
    "for_plot.to_csv(r'C:\\Users\\hchintada\\Downloads\\TS_Project\\for_plot.csv',index=False)"
   ]
  },
  {
   "cell_type": "markdown",
   "metadata": {},
   "source": [
    "## Predicting train target using the model to evaluate how the model performs on seen data"
   ]
  },
  {
   "cell_type": "code",
   "execution_count": 45,
   "metadata": {},
   "outputs": [
    {
     "name": "stdout",
     "output_type": "stream",
     "text": [
      "RF train error:  13.244185418868303\n"
     ]
    }
   ],
   "source": [
    "rf_train_preds = rf.predict(X_train)\n",
    "print('RF train error: ',mae(y_train,rf_train_preds))"
   ]
  },
  {
   "cell_type": "markdown",
   "metadata": {},
   "source": [
    "## Checking model performance on unseen data (the test set)"
   ]
  },
  {
   "cell_type": "code",
   "execution_count": 46,
   "metadata": {
    "scrolled": false
   },
   "outputs": [
    {
     "name": "stdout",
     "output_type": "stream",
     "text": [
      "RF test error :  18.429708940972098\n"
     ]
    }
   ],
   "source": [
    "rf_test_preds = rf.predict(X_test)\n",
    "print('RF test error : ',mae(y_test,rf_test_preds))"
   ]
  },
  {
   "cell_type": "markdown",
   "metadata": {},
   "source": [
    "The error on unseen data is 19.55"
   ]
  },
  {
   "cell_type": "code",
   "execution_count": 47,
   "metadata": {
    "collapsed": true
   },
   "outputs": [],
   "source": [
    "train_data['Predicted_TS'] = rf_train_preds.round(2)\n",
    "test_data['Predicted_TS'] = rf_test_preds.round(2)\n",
    "\n",
    "train_data.to_csv(r'C:\\Users\\hchintada\\Downloads\\TS_Project\\Train_Actual_vs_Preds.csv',index=False)\n",
    "test_data.to_csv(r'C:\\Users\\hchintada\\Downloads\\TS_Project\\Test_Actual_vs_Preds.csv',index=False)"
   ]
  },
  {
   "cell_type": "markdown",
   "metadata": {},
   "source": [
    "# Predicting tensile strengths of new compounds\n",
    "Passing the newly created compounds data to the model to predict their tensile strengths"
   ]
  },
  {
   "cell_type": "code",
   "execution_count": 54,
   "metadata": {
    "collapsed": true
   },
   "outputs": [],
   "source": [
    "predictd_TS = rf.predict(new_dum)"
   ]
  },
  {
   "cell_type": "code",
   "execution_count": 55,
   "metadata": {
    "collapsed": true
   },
   "outputs": [],
   "source": [
    "#adding the predicted tensile strengths as a column to the new compounds dataframe\n",
    "new['Predicted_TS'] = predictd_TS.round(2)"
   ]
  },
  {
   "cell_type": "code",
   "execution_count": 56,
   "metadata": {},
   "outputs": [
    {
     "data": {
      "text/html": [
       "<div>\n",
       "<style scoped>\n",
       "    .dataframe tbody tr th:only-of-type {\n",
       "        vertical-align: middle;\n",
       "    }\n",
       "\n",
       "    .dataframe tbody tr th {\n",
       "        vertical-align: top;\n",
       "    }\n",
       "\n",
       "    .dataframe thead th {\n",
       "        text-align: right;\n",
       "    }\n",
       "</style>\n",
       "<table border=\"1\" class=\"dataframe\">\n",
       "  <thead>\n",
       "    <tr style=\"text-align: right;\">\n",
       "      <th></th>\n",
       "      <th>composition</th>\n",
       "      <th>m1</th>\n",
       "      <th>m1%</th>\n",
       "      <th>m2</th>\n",
       "      <th>m2%</th>\n",
       "      <th>m3</th>\n",
       "      <th>m3%</th>\n",
       "      <th>Predicted_TS</th>\n",
       "    </tr>\n",
       "  </thead>\n",
       "  <tbody>\n",
       "    <tr>\n",
       "      <th>0</th>\n",
       "      <td>Ag9.33,Al22.85,As67.83</td>\n",
       "      <td>Ag</td>\n",
       "      <td>9.33</td>\n",
       "      <td>Al</td>\n",
       "      <td>22.85</td>\n",
       "      <td>As</td>\n",
       "      <td>67.83</td>\n",
       "      <td>51.23</td>\n",
       "    </tr>\n",
       "    <tr>\n",
       "      <th>1</th>\n",
       "      <td>Ag29.86,Al30.11,Au40.04</td>\n",
       "      <td>Ag</td>\n",
       "      <td>29.86</td>\n",
       "      <td>Al</td>\n",
       "      <td>30.11</td>\n",
       "      <td>Au</td>\n",
       "      <td>40.04</td>\n",
       "      <td>54.19</td>\n",
       "    </tr>\n",
       "    <tr>\n",
       "      <th>2</th>\n",
       "      <td>Ag15.5,Al34.24,B50.26</td>\n",
       "      <td>Ag</td>\n",
       "      <td>15.50</td>\n",
       "      <td>Al</td>\n",
       "      <td>34.24</td>\n",
       "      <td>B</td>\n",
       "      <td>50.26</td>\n",
       "      <td>52.69</td>\n",
       "    </tr>\n",
       "    <tr>\n",
       "      <th>3</th>\n",
       "      <td>Ag31.34,Al38.39,Be30.28</td>\n",
       "      <td>Ag</td>\n",
       "      <td>31.34</td>\n",
       "      <td>Al</td>\n",
       "      <td>38.39</td>\n",
       "      <td>Be</td>\n",
       "      <td>30.28</td>\n",
       "      <td>52.69</td>\n",
       "    </tr>\n",
       "    <tr>\n",
       "      <th>4</th>\n",
       "      <td>Ag41.13,Al21.41,Bi37.46</td>\n",
       "      <td>Ag</td>\n",
       "      <td>41.13</td>\n",
       "      <td>Al</td>\n",
       "      <td>21.41</td>\n",
       "      <td>Bi</td>\n",
       "      <td>37.46</td>\n",
       "      <td>51.14</td>\n",
       "    </tr>\n",
       "  </tbody>\n",
       "</table>\n",
       "</div>"
      ],
      "text/plain": [
       "               composition  m1    m1%  m2    m2%  m3    m3%  Predicted_TS\n",
       "0   Ag9.33,Al22.85,As67.83  Ag   9.33  Al  22.85  As  67.83         51.23\n",
       "1  Ag29.86,Al30.11,Au40.04  Ag  29.86  Al  30.11  Au  40.04         54.19\n",
       "2    Ag15.5,Al34.24,B50.26  Ag  15.50  Al  34.24   B  50.26         52.69\n",
       "3  Ag31.34,Al38.39,Be30.28  Ag  31.34  Al  38.39  Be  30.28         52.69\n",
       "4  Ag41.13,Al21.41,Bi37.46  Ag  41.13  Al  21.41  Bi  37.46         51.14"
      ]
     },
     "execution_count": 56,
     "metadata": {},
     "output_type": "execute_result"
    }
   ],
   "source": [
    "# A look at the new final dataframe\n",
    "new.head()"
   ]
  },
  {
   "cell_type": "markdown",
   "metadata": {},
   "source": [
    "## Exporting the new compounds dataframe as a csv document to the local drive"
   ]
  },
  {
   "cell_type": "code",
   "execution_count": 57,
   "metadata": {
    "collapsed": true
   },
   "outputs": [],
   "source": [
    "new.to_csv(r'C:\\Users\\hchintada\\Downloads\\TS_Project\\New_Compound_Predictions.csv',index=False)\n",
    "#please replace the above location with your local drive location where you want the file to be exported to"
   ]
  },
  {
   "cell_type": "markdown",
   "metadata": {},
   "source": [
    "## Using the model to predict new ternary compounds"
   ]
  },
  {
   "cell_type": "code",
   "execution_count": 128,
   "metadata": {},
   "outputs": [],
   "source": [
    "def predict_TS(metal1,metal1_pct,metal2,metal2_pct,metal3,metal3_pct):\n",
    "    dct = dict(zip(['m1','m1%','m2','m2%','m3','m3%'],[metal1,metal1_pct,metal2,metal2_pct,metal3,metal3_pct]))\n",
    "    compound = pd.DataFrame(dct,index=[0])\n",
    "    comp = pd.get_dummies(compound)\n",
    "    cols = df.columns.tolist()\n",
    "    cols.remove('TS')\n",
    "    for col in comp.columns:\n",
    "        cols.remove(col)\n",
    "    c1 = pd.DataFrame(0, index=[0], columns=cols)\n",
    "    comp_final = pd.concat([comp,c1],axis='columns')\n",
    "    estimated_TS =  rf.predict(comp_final)[0].round(2)\n",
    "    return estimated_TS"
   ]
  },
  {
   "cell_type": "code",
   "execution_count": 134,
   "metadata": {},
   "outputs": [
    {
     "name": "stdin",
     "output_type": "stream",
     "text": [
      "enter first metal. ex: Ag  Al\n",
      "enter first metal %. ex: 97.8 50\n",
      "enter second metal. ex: As  Zn\n",
      "enter second metal %. ex: 1 30\n",
      "enter third metal. Ex:Be  Si\n",
      "enter thrid metal %. ex: 1.2 20\n"
     ]
    },
    {
     "name": "stdout",
     "output_type": "stream",
     "text": [
      "Thank you!\n",
      "The estimated tensile strength for the compound Al50.0,Zn30.0,Si20.0 is: 45.34\n"
     ]
    }
   ],
   "source": [
    "while True:\n",
    "    metal1 = input(\"enter first metal. ex: Ag \")\n",
    "    metal1_pct = float(input('enter first metal %. ex: 97.8'))\n",
    "    metal2 = input(\"enter second metal. ex: As \")\n",
    "    metal2_pct = float(input('enter second metal %. ex: 1'))\n",
    "    metal3 = input('enter third metal. Ex:Be ')\n",
    "    metal3_pct = float(input('enter thrid metal %. ex: 1.2'))\n",
    "    if metal1_pct + metal2_pct + metal3_pct == 100:\n",
    "        print('Thank you!')\n",
    "        break\n",
    "    else: print('Please make sure the percentages add up to 100')\n",
    "comp = \",\".join([metal1+str(metal1_pct),metal2+str(metal2_pct),metal3+str(metal3_pct)])\n",
    "pred = predict_TS(metal1,metal1_pct,metal2,metal2_pct,metal3,metal3_pct)\n",
    "print('')\n",
    "print(\"The estimated tensile strength for the compound {} is: {}\".format(comp,pred) )"
   ]
  }
 ],
 "metadata": {
  "kernelspec": {
   "display_name": "Python 3",
   "language": "python",
   "name": "python3"
  },
  "language_info": {
   "codemirror_mode": {
    "name": "ipython",
    "version": 3
   },
   "file_extension": ".py",
   "mimetype": "text/x-python",
   "name": "python",
   "nbconvert_exporter": "python",
   "pygments_lexer": "ipython3",
   "version": "3.6.1"
  }
 },
 "nbformat": 4,
 "nbformat_minor": 2
}
